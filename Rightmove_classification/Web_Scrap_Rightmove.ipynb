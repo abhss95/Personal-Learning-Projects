{
 "cells": [
  {
   "cell_type": "markdown",
   "id": "6909a2ef-c159-4c25-aedd-4470d753d027",
   "metadata": {},
   "source": [
    "# Web Scraping Rightmove\n",
    "\n",
    "#### Using python's BeautifulSoup to extract information about properties on sale in London Borough of Greenwich; mainly done for collecting data to use in classification ML mini project later.\n",
    "\n",
    "Data gathered on: 14th April 2023, 20:51."
   ]
  },
  {
   "cell_type": "code",
   "execution_count": 1,
   "id": "f6539aa9-9ca7-4078-ac5e-3999c942673c",
   "metadata": {
    "tags": []
   },
   "outputs": [],
   "source": [
    "#Module for http requests \n",
    "import requests\n",
    "\n",
    "#Module to parse html\n",
    "from bs4 import BeautifulSoup\n",
    "\n",
    "import pandas as pd\n",
    "import numpy as np"
   ]
  },
  {
   "cell_type": "markdown",
   "id": "7e72fd20-d975-411c-959c-7c905e2c4164",
   "metadata": {},
   "source": [
    "Let's begin by defining a function which can extract the information that we require from the advertisement page of the specific property being looked at. The features of the property we will extract are: Price, Property Type, Bedrooms, Bathrooms, Size."
   ]
  },
  {
   "cell_type": "code",
   "execution_count": 2,
   "id": "8c6bf0d2-941e-436c-8924-4ff92c7a9f08",
   "metadata": {
    "tags": []
   },
   "outputs": [],
   "source": [
    "#A function used to extract the required information about properties using the advertisement webpage: Price, Property Type, Bedrooms, Bathrooms, Size\n",
    "\n",
    "#The parameter 'advert_url' is the link to the advertisement page of the property being looked at\n",
    "def info_extract(advert_url):\n",
    "    \n",
    "    #Dictionary to store the required information as key value pair. E.g. {..., \"Bedrooms\": 2, ...}\n",
    "    information = {}\n",
    "    \n",
    "    #Http request and extracting the html of the advert page using .text\n",
    "    advert_html = requests.get(advert_url).text\n",
    "    \n",
    "    #BeautifulSoup object to parse the html\n",
    "    advert_soup = BeautifulSoup(advert_html, 'lxml')\n",
    "    \n",
    "    #Extracting the price of the property\n",
    "    price = advert_soup.find('div', class_ = \"_1gfnqJ3Vtd1z40MlC0MzXu\").find('span').text\n",
    "    information[\"Price (£)\"] = price.strip('£')\n",
    "    \n",
    "    #Extracting other information about the property: type, bedrooms etc\n",
    "    for info in advert_soup.find_all('dl', class_ = \"_3gIoc-NFXILAOZEaEjJi1n\"):\n",
    "        if 'PROPERTY' in info.text:\n",
    "            information[\"Property Type\"] = info.text[13:]\n",
    "        if 'BEDROOM' in info.text:\n",
    "            information[\"Bedrooms\"] = info.text.split('×')[-1]\n",
    "        if 'BATHROOM' in info.text:\n",
    "            information[\"Bathrooms\"] = info.text.split('×')[-1]\n",
    "        if 'SIZE' in info.text:\n",
    "            information[\"Size, sq. ft.\"] = info.text.split()[0][4:]\n",
    "    \n",
    "    return information"
   ]
  },
  {
   "cell_type": "markdown",
   "id": "9897a698-7a23-4f63-a98a-dc8b1a38743a",
   "metadata": {},
   "source": [
    "Rightmove only allows access to (/displays) a maximum of 42 search pages, where each search page contains the url to around 24 advertisement pages. Every search page can be accessed by changing the value of the 'index' parameter present on it's url. The 'index' parameter starts from 0 and ends at 984, increasing in multiples of 24. Thus, next we run a loop from 0 to 41 and store the url for each search pages."
   ]
  },
  {
   "cell_type": "code",
   "execution_count": 3,
   "id": "9dd75a82-0c37-479c-b807-4af33495a20b",
   "metadata": {
    "tags": []
   },
   "outputs": [
    {
     "data": {
      "text/plain": [
       "['https://www.rightmove.co.uk/property-for-sale/find.html?locationIdentifier=REGION%5E61226&sortType=6&index=0&propertyTypes=&includeSSTC=false&mustHave=&dontShow=&furnishTypes=&keywords=',\n",
       " 'https://www.rightmove.co.uk/property-for-sale/find.html?locationIdentifier=REGION%5E61226&sortType=6&index=24&propertyTypes=&includeSSTC=false&mustHave=&dontShow=&furnishTypes=&keywords=',\n",
       " 'https://www.rightmove.co.uk/property-for-sale/find.html?locationIdentifier=REGION%5E61226&sortType=6&index=48&propertyTypes=&includeSSTC=false&mustHave=&dontShow=&furnishTypes=&keywords=',\n",
       " 'https://www.rightmove.co.uk/property-for-sale/find.html?locationIdentifier=REGION%5E61226&sortType=6&index=72&propertyTypes=&includeSSTC=false&mustHave=&dontShow=&furnishTypes=&keywords=',\n",
       " 'https://www.rightmove.co.uk/property-for-sale/find.html?locationIdentifier=REGION%5E61226&sortType=6&index=96&propertyTypes=&includeSSTC=false&mustHave=&dontShow=&furnishTypes=&keywords=']"
      ]
     },
     "execution_count": 3,
     "metadata": {},
     "output_type": "execute_result"
    }
   ],
   "source": [
    "#Storing links, in a list, to access the 42 search pages\n",
    "all_links = []\n",
    "\n",
    "#For loop to access the url to each search page by changing the 'index' parameter\n",
    "for index in range(0,42):\n",
    "    page_url = f\"https://www.rightmove.co.uk/property-for-sale/find.html?locationIdentifier=REGION%5E61226&sortType=6&index={24*index}&propertyTypes=&includeSSTC=false&mustHave=&dontShow=&furnishTypes=&keywords=\"\n",
    "    all_links.append(page_url)\n",
    "\n",
    "#Displaying the links to first five search pags\n",
    "all_links[0:5]"
   ]
  },
  {
   "cell_type": "markdown",
   "id": "dce7435a-7be1-454b-a654-8219b807d9a8",
   "metadata": {},
   "source": [
    "See the image at the bottom of the notebook to get a clear picture of how the nested for loop below is functioning."
   ]
  },
  {
   "cell_type": "code",
   "execution_count": 4,
   "id": "5aec6e14-2842-4915-813f-b46ba2d5d895",
   "metadata": {
    "tags": []
   },
   "outputs": [],
   "source": [
    "#Stores the dictionary returned by 'info_extract(#)' function, containing the features of each property\n",
    "info = []\n",
    "\n",
    "#Nested for loop: First loop Accesses each of the 42 search pages individually while the second (inner) loop accesses each of the advertisement pages within the given search page\n",
    "for search_page_url in all_links:\n",
    "    \n",
    "    #Getting the html for each search page\n",
    "    search_page_html = requests.get(search_page_url).text\n",
    "    \n",
    "    #Creating BeautifulSoup object for each search page html\n",
    "    search_page_soup = BeautifulSoup(search_page_html, 'lxml')\n",
    "    \n",
    "    #Obtaining the url to each of the advertisements in this particular search page: Using list comprehension instead of another for loop\n",
    "    advert_urls = [f\"https://www.rightmove.co.uk{url['href']}\" for url in search_page_soup.find_all('a', class_ = \"propertyCard-priceLink propertyCard-salePrice\", href = True)]\n",
    "    \n",
    "    #Inner for loop: Extracting information for each advertisement found in this particular search page and saving it in the 'info' list\n",
    "    for advert_url in advert_urls:\n",
    "        info.append( info_extract(advert_url) )        "
   ]
  },
  {
   "cell_type": "markdown",
   "id": "97b55e8f-91e2-45d6-83d0-8c4fd95dd61c",
   "metadata": {},
   "source": [
    "Now that we have extracted all the required information, we simply need to save it as a csv file for latter use."
   ]
  },
  {
   "cell_type": "code",
   "execution_count": 5,
   "id": "80c1dfdb-cb7d-488f-b881-4af0a60595b2",
   "metadata": {
    "tags": []
   },
   "outputs": [],
   "source": [
    "#Creating the pandas DataFrame object using the 'info' list\n",
    "properties = pd.DataFrame(info)\n",
    "\n",
    "#Saving the DataFrame as a csv file\n",
    "properties.to_csv('rightmove_Greenwich.csv', index = False)"
   ]
  },
  {
   "cell_type": "code",
   "execution_count": 6,
   "id": "77c825f9-f0fe-4249-aebb-b477cff1ce53",
   "metadata": {
    "tags": []
   },
   "outputs": [
    {
     "data": {
      "text/html": [
       "<div>\n",
       "<style scoped>\n",
       "    .dataframe tbody tr th:only-of-type {\n",
       "        vertical-align: middle;\n",
       "    }\n",
       "\n",
       "    .dataframe tbody tr th {\n",
       "        vertical-align: top;\n",
       "    }\n",
       "\n",
       "    .dataframe thead th {\n",
       "        text-align: right;\n",
       "    }\n",
       "</style>\n",
       "<table border=\"1\" class=\"dataframe\">\n",
       "  <thead>\n",
       "    <tr style=\"text-align: right;\">\n",
       "      <th></th>\n",
       "      <th>Price (£)</th>\n",
       "      <th>Property Type</th>\n",
       "      <th>Bedrooms</th>\n",
       "      <th>Bathrooms</th>\n",
       "      <th>Size, sq. ft.</th>\n",
       "    </tr>\n",
       "  </thead>\n",
       "  <tbody>\n",
       "    <tr>\n",
       "      <th>0</th>\n",
       "      <td>449,995</td>\n",
       "      <td>Apartment</td>\n",
       "      <td>1</td>\n",
       "      <td>1</td>\n",
       "      <td>551</td>\n",
       "    </tr>\n",
       "    <tr>\n",
       "      <th>1</th>\n",
       "      <td>750,000</td>\n",
       "      <td>Flat</td>\n",
       "      <td>2</td>\n",
       "      <td>2</td>\n",
       "      <td>1,276</td>\n",
       "    </tr>\n",
       "    <tr>\n",
       "      <th>2</th>\n",
       "      <td>300,000</td>\n",
       "      <td>Flat</td>\n",
       "      <td>2</td>\n",
       "      <td>1</td>\n",
       "      <td>NaN</td>\n",
       "    </tr>\n",
       "    <tr>\n",
       "      <th>3</th>\n",
       "      <td>385,000</td>\n",
       "      <td>NaN</td>\n",
       "      <td>1</td>\n",
       "      <td>1</td>\n",
       "      <td>NaN</td>\n",
       "    </tr>\n",
       "    <tr>\n",
       "      <th>4</th>\n",
       "      <td>550,000</td>\n",
       "      <td>Apartment</td>\n",
       "      <td>2</td>\n",
       "      <td>2</td>\n",
       "      <td>NaN</td>\n",
       "    </tr>\n",
       "    <tr>\n",
       "      <th>5</th>\n",
       "      <td>265,000</td>\n",
       "      <td>Flat</td>\n",
       "      <td>1</td>\n",
       "      <td>1</td>\n",
       "      <td>NaN</td>\n",
       "    </tr>\n",
       "    <tr>\n",
       "      <th>6</th>\n",
       "      <td>395,000</td>\n",
       "      <td>Terraced</td>\n",
       "      <td>2</td>\n",
       "      <td>1</td>\n",
       "      <td>NaN</td>\n",
       "    </tr>\n",
       "    <tr>\n",
       "      <th>7</th>\n",
       "      <td>350,000</td>\n",
       "      <td>Apartment</td>\n",
       "      <td>NaN</td>\n",
       "      <td>1</td>\n",
       "      <td>NaN</td>\n",
       "    </tr>\n",
       "    <tr>\n",
       "      <th>8</th>\n",
       "      <td>350,000</td>\n",
       "      <td>Flat</td>\n",
       "      <td>3</td>\n",
       "      <td>1</td>\n",
       "      <td>NaN</td>\n",
       "    </tr>\n",
       "    <tr>\n",
       "      <th>9</th>\n",
       "      <td>265,000</td>\n",
       "      <td>Flat</td>\n",
       "      <td>2</td>\n",
       "      <td>1</td>\n",
       "      <td>NaN</td>\n",
       "    </tr>\n",
       "  </tbody>\n",
       "</table>\n",
       "</div>"
      ],
      "text/plain": [
       "  Price (£) Property Type Bedrooms Bathrooms Size, sq. ft.\n",
       "0   449,995     Apartment        1         1           551\n",
       "1   750,000          Flat        2         2         1,276\n",
       "2   300,000          Flat        2         1           NaN\n",
       "3   385,000           NaN        1         1           NaN\n",
       "4   550,000     Apartment        2         2           NaN\n",
       "5   265,000          Flat        1         1           NaN\n",
       "6   395,000      Terraced        2         1           NaN\n",
       "7   350,000     Apartment      NaN         1           NaN\n",
       "8   350,000          Flat        3         1           NaN\n",
       "9   265,000          Flat        2         1           NaN"
      ]
     },
     "execution_count": 6,
     "metadata": {},
     "output_type": "execute_result"
    }
   ],
   "source": [
    "#Viewing the DataFrame\n",
    "properties.head(10)"
   ]
  },
  {
   "cell_type": "code",
   "execution_count": 8,
   "id": "b5a52c88-c6f0-4aef-9bcb-9eadb7f6167f",
   "metadata": {
    "tags": []
   },
   "outputs": [
    {
     "data": {
      "text/plain": [
       "Apartment                       319\n",
       "Flat                            295\n",
       "Terraced                        166\n",
       "Semi-Detached                   121\n",
       "End of Terrace                   41\n",
       "Detached                         32\n",
       "Maisonette                       27\n",
       "House                            18\n",
       "Town House                        8\n",
       "Penthouse                         4\n",
       "Ground Flat                       4\n",
       "Studio                            3\n",
       "Retirement Property               2\n",
       "Bungalow                          1\n",
       "Cottage                           1\n",
       "Plot                              1\n",
       "Detached Bungalow                 1\n",
       "Ground Maisonette                 1\n",
       "Link Detached House               1\n",
       "House of Multiple Occupation      1\n",
       "Semi-Detached Bungalow            1\n",
       "Name: Property Type, dtype: int64"
      ]
     },
     "execution_count": 8,
     "metadata": {},
     "output_type": "execute_result"
    }
   ],
   "source": [
    "#Different types of properties in Greenwich\n",
    "properties[\"Property Type\"].value_counts()"
   ]
  },
  {
   "cell_type": "markdown",
   "id": "3cff19ba-d694-45d8-9dde-df8ab747aa70",
   "metadata": {
    "tags": []
   },
   "source": [
    "## Visualising the nested loop"
   ]
  },
  {
   "cell_type": "markdown",
   "id": "c077a743-831a-449b-9b69-70ddfff9c68c",
   "metadata": {},
   "source": [
    "Let's have a closer look at how the nested for loop extracts the information we require. \n",
    "\n",
    "We have a tree data structure where the root is the 'all_links' list. Each element of 'all_links' list is it's children; 'page_url' (for the search pages). Each 'page_url' has it's own children; the url to the adverts contained on that search page, 'advert_url'. Then, the function 'info_extract' acts on every 'advert_url' to extract the information regarding the properties on sale. \n",
    "\n",
    "To summarise, the nested for loop simply does a depth first traversal of this graph and adds the required information into the 'info' list at each leaf node."
   ]
  },
  {
   "attachments": {
    "165441d9-60c5-43c1-86cd-93192035aad2.png": {
     "image/png": "[encoded data removed]"
    }
   },
   "cell_type": "markdown",
   "id": "008dcedd-6d26-4cb4-b9e8-c985e7ec84b6",
   "metadata": {},
   "source": [
    "![Tree.png](attachment:165441d9-60c5-43c1-86cd-93192035aad2.png)"
   ]
  },
  {
   "cell_type": "markdown",
   "id": "9ebdd4be-5591-4673-9dd3-57695a067231",
   "metadata": {},
   "source": [
    "## Author\n",
    "Abhay Shrestha"
   ]
  }
 ],
 "metadata": {
  "kernelspec": {
   "display_name": "Python 3 (ipykernel)",
   "language": "python",
   "name": "python3"
  },
  "language_info": {
   "codemirror_mode": {
    "name": "ipython",
    "version": 3
   },
   "file_extension": ".py",
   "mimetype": "text/x-python",
   "name": "python",
   "nbconvert_exporter": "python",
   "pygments_lexer": "ipython3",
   "version": "3.10.6"
  }
 },
 "nbformat": 4,
 "nbformat_minor": 5
}
