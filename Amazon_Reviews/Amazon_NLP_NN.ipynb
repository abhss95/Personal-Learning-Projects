{
 "cells": [
  {
   "cell_type": "markdown",
   "id": "a560e396-7a95-46dc-9581-00ba70bed69a",
   "metadata": {},
   "source": [
    "# Customer satisfaction \n",
    "\n",
    "#### Converting what people say into a 1 or 5 star rating.\n",
    "\n",
    "Here I analyse the dataset containing reviews and ratings for different cell phones and accessories products sold through Amazon. Then I use a simple feedforward densely connected deep learning model to develop a classifier that predicts the rating (1 or 5) of a given text review. As such, this is a basic level Natural Language Processing (NLP) project through the use of simple neural networks."
   ]
  },
  {
   "cell_type": "markdown",
   "id": "c9a92a1e-ee17-488b-9efe-cb3835efd71c",
   "metadata": {},
   "source": [
    "### Source of Data:\n",
    "\n",
    "https://nijianmo.github.io/amazon/index.html\n",
    "\n",
    "[1] \"Justifying recommendations using distantly-labeled reviews and fined-grained aspects\",\n",
    "Jianmo Ni, Jiacheng Li, Julian McAuley\n",
    "Empirical Methods in Natural Language Processing (EMNLP), 2019."
   ]
  },
  {
   "cell_type": "code",
   "execution_count": 1,
   "id": "14b0e5ac-fd79-4b6e-bdb4-6c97b6e07d12",
   "metadata": {
    "tags": []
   },
   "outputs": [],
   "source": [
    "# Data analysis libraries\n",
    "import numpy as np\n",
    "import pandas as pd\n",
    "\n",
    "# Data visualisation libraries\n",
    "import matplotlib.pyplot as plt\n",
    "import seaborn as sns\n",
    "\n",
    "# Helpful libraries for NLP\n",
    "import string\n",
    "import nltk"
   ]
  },
  {
   "cell_type": "code",
   "execution_count": 2,
   "id": "9b97197d-5c5f-4f93-a2f9-53a74055050e",
   "metadata": {
    "tags": []
   },
   "outputs": [],
   "source": [
    "# Magic function to display plots in notebook\n",
    "%matplotlib inline\n",
    "\n",
    "# Plot style\n",
    "plt.style.use('ggplot')"
   ]
  },
  {
   "cell_type": "code",
   "execution_count": 3,
   "id": "da835cd6-bbb5-4531-a3e5-a98c435b87b6",
   "metadata": {
    "tags": []
   },
   "outputs": [],
   "source": [
    "# Entire review dataset \n",
    "data = pd.read_json(\"Cell_Phones_and_Accessories_5.json\", lines=True)"
   ]
  },
  {
   "cell_type": "code",
   "execution_count": 4,
   "id": "6400ca77-b3eb-45e9-bbc0-3268c57f9561",
   "metadata": {
    "tags": []
   },
   "outputs": [
    {
     "name": "stdout",
     "output_type": "stream",
     "text": [
      "<class 'pandas.core.frame.DataFrame'>\n",
      "RangeIndex: 1128437 entries, 0 to 1128436\n",
      "Data columns (total 12 columns):\n",
      " #   Column          Non-Null Count    Dtype \n",
      "---  ------          --------------    ----- \n",
      " 0   overall         1128437 non-null  int64 \n",
      " 1   verified        1128437 non-null  bool  \n",
      " 2   reviewTime      1128437 non-null  object\n",
      " 3   reviewerID      1128437 non-null  object\n",
      " 4   asin            1128437 non-null  object\n",
      " 5   style           605241 non-null   object\n",
      " 6   reviewerName    1128302 non-null  object\n",
      " 7   reviewText      1127672 non-null  object\n",
      " 8   summary         1127920 non-null  object\n",
      " 9   unixReviewTime  1128437 non-null  int64 \n",
      " 10  vote            92034 non-null    object\n",
      " 11  image           27107 non-null    object\n",
      "dtypes: bool(1), int64(2), object(9)\n",
      "memory usage: 95.8+ MB\n"
     ]
    }
   ],
   "source": [
    "data.info()"
   ]
  },
  {
   "cell_type": "markdown",
   "id": "10759a0a-67a7-4226-8a09-23b26887d3ca",
   "metadata": {},
   "source": [
    "For simplicity, we shall drop all the columns except for overall, summary and reviewText. So, we start with some format changes."
   ]
  },
  {
   "cell_type": "markdown",
   "id": "7c2f87da-8008-42e4-892b-9a6f3a8aa768",
   "metadata": {},
   "source": [
    "## 1) Data preparation\n",
    "\n",
    "##### In this section we change the format of the data to suit our needs, clean the data and make it ready for tokenization."
   ]
  },
  {
   "cell_type": "code",
   "execution_count": 5,
   "id": "f9c29f4a-25c6-4910-826a-bb2fd8667f1f",
   "metadata": {
    "tags": []
   },
   "outputs": [],
   "source": [
    "# Creating a new DataFrame containing just the review text, summary and its rating\n",
    "amazon = data[[\"reviewText\", \"overall\", \"summary\"]].copy(deep = True)"
   ]
  },
  {
   "cell_type": "code",
   "execution_count": 6,
   "id": "43e7065c-76d1-4e97-acb4-c5f2df4a5440",
   "metadata": {
    "tags": []
   },
   "outputs": [],
   "source": [
    "# Removing empty review texts\n",
    "amazon.dropna(subset = [\"reviewText\"], axis = 0, inplace = True)\n",
    "amazon.reset_index(inplace = True, drop = True)"
   ]
  },
  {
   "cell_type": "code",
   "execution_count": 7,
   "id": "681fcf17-c516-4b4f-83ef-d396913b5c48",
   "metadata": {
    "tags": []
   },
   "outputs": [],
   "source": [
    "# Renaming the columns\n",
    "amazon.rename(columns = {\"reviewText\": \"Review\", \"overall\": \"Rating\", \"summary\": \"Summary\"}, inplace = True)"
   ]
  },
  {
   "cell_type": "code",
   "execution_count": 8,
   "id": "bb727ed1-3af3-4ec8-acf2-de6a5d57b87f",
   "metadata": {
    "tags": []
   },
   "outputs": [],
   "source": [
    "# Adding length of the review text into DataFrame\n",
    "amazon[\"Review_Length\"] = amazon.Review.apply(len)\n",
    "\n",
    "# Changing the review text to lowercase\n",
    "amazon.Review = amazon.Review.apply(lambda x: x.lower())"
   ]
  },
  {
   "cell_type": "code",
   "execution_count": 9,
   "id": "433ff9e8-df69-4dee-b302-2e4a66e28508",
   "metadata": {
    "tags": []
   },
   "outputs": [
    {
     "data": {
      "text/html": [
       "<div>\n",
       "<style scoped>\n",
       "    .dataframe tbody tr th:only-of-type {\n",
       "        vertical-align: middle;\n",
       "    }\n",
       "\n",
       "    .dataframe tbody tr th {\n",
       "        vertical-align: top;\n",
       "    }\n",
       "\n",
       "    .dataframe thead th {\n",
       "        text-align: right;\n",
       "    }\n",
       "</style>\n",
       "<table border=\"1\" class=\"dataframe\">\n",
       "  <thead>\n",
       "    <tr style=\"text-align: right;\">\n",
       "      <th></th>\n",
       "      <th>Review</th>\n",
       "      <th>Rating</th>\n",
       "      <th>Summary</th>\n",
       "      <th>Review_Length</th>\n",
       "    </tr>\n",
       "  </thead>\n",
       "  <tbody>\n",
       "    <tr>\n",
       "      <th>0</th>\n",
       "      <td>looks even better in person. be careful to not...</td>\n",
       "      <td>5</td>\n",
       "      <td>Can't stop won't stop looking at it</td>\n",
       "      <td>271</td>\n",
       "    </tr>\n",
       "    <tr>\n",
       "      <th>1</th>\n",
       "      <td>when you don't want to spend a whole lot of ca...</td>\n",
       "      <td>5</td>\n",
       "      <td>1</td>\n",
       "      <td>102</td>\n",
       "    </tr>\n",
       "    <tr>\n",
       "      <th>2</th>\n",
       "      <td>so the case came on time, i love the design. i...</td>\n",
       "      <td>3</td>\n",
       "      <td>Its okay</td>\n",
       "      <td>257</td>\n",
       "    </tr>\n",
       "    <tr>\n",
       "      <th>3</th>\n",
       "      <td>don't care for it.  gave it as a gift and they...</td>\n",
       "      <td>2</td>\n",
       "      <td>CASE</td>\n",
       "      <td>92</td>\n",
       "    </tr>\n",
       "    <tr>\n",
       "      <th>4</th>\n",
       "      <td>i liked it because it was cute, but the studs ...</td>\n",
       "      <td>4</td>\n",
       "      <td>Cute!</td>\n",
       "      <td>150</td>\n",
       "    </tr>\n",
       "    <tr>\n",
       "      <th>5</th>\n",
       "      <td>the product looked exactly like the picture an...</td>\n",
       "      <td>2</td>\n",
       "      <td>Not so happy</td>\n",
       "      <td>159</td>\n",
       "    </tr>\n",
       "    <tr>\n",
       "      <th>6</th>\n",
       "      <td>i finally got my case today. it took forever t...</td>\n",
       "      <td>3</td>\n",
       "      <td>It's cute!</td>\n",
       "      <td>344</td>\n",
       "    </tr>\n",
       "    <tr>\n",
       "      <th>7</th>\n",
       "      <td>it is a very cute case. none of the jewels hav...</td>\n",
       "      <td>5</td>\n",
       "      <td>Cute case</td>\n",
       "      <td>327</td>\n",
       "    </tr>\n",
       "    <tr>\n",
       "      <th>8</th>\n",
       "      <td>do not buy! this item is seriously cheap as he...</td>\n",
       "      <td>1</td>\n",
       "      <td>WORST ITEM!</td>\n",
       "      <td>190</td>\n",
       "    </tr>\n",
       "    <tr>\n",
       "      <th>9</th>\n",
       "      <td>i really love this case... you have to keep yo...</td>\n",
       "      <td>4</td>\n",
       "      <td>Pretty Cute!</td>\n",
       "      <td>188</td>\n",
       "    </tr>\n",
       "  </tbody>\n",
       "</table>\n",
       "</div>"
      ],
      "text/plain": [
       "                                              Review  Rating  \\\n",
       "0  looks even better in person. be careful to not...       5   \n",
       "1  when you don't want to spend a whole lot of ca...       5   \n",
       "2  so the case came on time, i love the design. i...       3   \n",
       "3  don't care for it.  gave it as a gift and they...       2   \n",
       "4  i liked it because it was cute, but the studs ...       4   \n",
       "5  the product looked exactly like the picture an...       2   \n",
       "6  i finally got my case today. it took forever t...       3   \n",
       "7  it is a very cute case. none of the jewels hav...       5   \n",
       "8  do not buy! this item is seriously cheap as he...       1   \n",
       "9  i really love this case... you have to keep yo...       4   \n",
       "\n",
       "                               Summary  Review_Length  \n",
       "0  Can't stop won't stop looking at it            271  \n",
       "1                                    1            102  \n",
       "2                             Its okay            257  \n",
       "3                                 CASE             92  \n",
       "4                                Cute!            150  \n",
       "5                         Not so happy            159  \n",
       "6                           It's cute!            344  \n",
       "7                            Cute case            327  \n",
       "8                          WORST ITEM!            190  \n",
       "9                         Pretty Cute!            188  "
      ]
     },
     "execution_count": 9,
     "metadata": {},
     "output_type": "execute_result"
    }
   ],
   "source": [
    "amazon.head(10)"
   ]
  },
  {
   "cell_type": "code",
   "execution_count": 10,
   "id": "7ab7914e-ba76-4516-ba52-ce0c91c96cab",
   "metadata": {
    "tags": []
   },
   "outputs": [
    {
     "data": {
      "text/plain": [
       "Text(0.5, 1.0, 'Total reviews for entire data')"
      ]
     },
     "execution_count": 10,
     "metadata": {},
     "output_type": "execute_result"
    },
    {
     "data": {
      "image/png": "[encoded data removed]",
      "text/plain": [
       "<Figure size 600x400 with 1 Axes>"
      ]
     },
     "metadata": {},
     "output_type": "display_data"
    }
   ],
   "source": [
    "# Plotting the total number of reviews for each rating\n",
    "fig, ax = plt.subplots(figsize = (6,4), nrows = 1, ncols = 1)\n",
    "sns.barplot(data = amazon.Rating.value_counts().sort_index().to_frame().reset_index(), y = \"Rating\", x = \"index\", ax = ax)\n",
    "ax.set_xlabel(\"Rating\", family = \"monospace\", size = 12, fontweight = \"bold\")\n",
    "ax.set_ylabel(\"Count\", family = \"monospace\", size = 12, fontweight = \"bold\")\n",
    "ax.set_title(\"Total reviews for entire data\", size = 8, family = \"monospace\")"
   ]
  },
  {
   "cell_type": "markdown",
   "id": "78097d3c-9196-4639-828f-e5b0f334e206",
   "metadata": {},
   "source": [
    "We see that the majority of the rating is 5 star. Although good for Amazon, for our classification model this imbalanced dataset poses an issue. The classifier will be biased towards the 5 star rating. To avoid this issue, we will split the data into training, validation and test sets such that each set contains roughly equal number of data points for all the ratings.\n",
    "\n",
    "To further simplify the task, we will work with binary classfication by removing the 2-4 star ratings."
   ]
  },
  {
   "cell_type": "code",
   "execution_count": 13,
   "id": "aa6cfe55-c027-41ca-a802-9b2d44ddd2cb",
   "metadata": {
    "tags": []
   },
   "outputs": [
    {
     "data": {
      "text/plain": [
       "5    706435\n",
       "Name: Rating, dtype: int64"
      ]
     },
     "execution_count": 13,
     "metadata": {},
     "output_type": "execute_result"
    }
   ],
   "source": [
    "# DataFrame for each rating: index = 0, rating = 1 while index = 1, rating = 5\n",
    "amazon_split = []\n",
    "for i in [1,5]:\n",
    "    amazon_split.append( amazon[ amazon.Rating == i ].copy(deep = True) )\n",
    "    \n",
    "amazon_split[1].Rating.value_counts()"
   ]
  },
  {
   "cell_type": "markdown",
   "id": "db15ab2c-587f-4482-8f04-23b946332104",
   "metadata": {},
   "source": [
    "Let's split the data into smaller chunks of around 5000 points."
   ]
  },
  {
   "cell_type": "code",
   "execution_count": 14,
   "id": "349b7a2c-d194-436d-a7e5-025a9307416c",
   "metadata": {
    "tags": []
   },
   "outputs": [
    {
     "data": {
      "text/plain": [
       "[16, 141]"
      ]
     },
     "execution_count": 14,
     "metadata": {},
     "output_type": "execute_result"
    }
   ],
   "source": [
    "# Number of chunks required to obtain around 5000 data points\n",
    "num = []\n",
    "for df in amazon_split:\n",
    "    num.append( df.shape[0]//5000 )\n",
    "num"
   ]
  },
  {
   "cell_type": "markdown",
   "id": "d46978d9-502c-4362-b2e8-5cb58dd0b560",
   "metadata": {},
   "source": [
    "Randomise the datapoints before splitting to obtain a random split."
   ]
  },
  {
   "cell_type": "code",
   "execution_count": 15,
   "id": "1f4ab546-fcee-4af7-bb84-e57fbf346764",
   "metadata": {
    "tags": []
   },
   "outputs": [
    {
     "data": {
      "text/html": [
       "<div>\n",
       "<style scoped>\n",
       "    .dataframe tbody tr th:only-of-type {\n",
       "        vertical-align: middle;\n",
       "    }\n",
       "\n",
       "    .dataframe tbody tr th {\n",
       "        vertical-align: top;\n",
       "    }\n",
       "\n",
       "    .dataframe thead th {\n",
       "        text-align: right;\n",
       "    }\n",
       "</style>\n",
       "<table border=\"1\" class=\"dataframe\">\n",
       "  <thead>\n",
       "    <tr style=\"text-align: right;\">\n",
       "      <th></th>\n",
       "      <th>Review</th>\n",
       "      <th>Rating</th>\n",
       "      <th>Summary</th>\n",
       "      <th>Review_Length</th>\n",
       "    </tr>\n",
       "  </thead>\n",
       "  <tbody>\n",
       "    <tr>\n",
       "      <th>1081840</th>\n",
       "      <td>the oneplus 1 and the other one plus phone are...</td>\n",
       "      <td>1</td>\n",
       "      <td>Nothing can help oneplus delicate phones nor t...</td>\n",
       "      <td>700</td>\n",
       "    </tr>\n",
       "    <tr>\n",
       "      <th>953928</th>\n",
       "      <td>screen cracked by it self, 3 days of use, crac...</td>\n",
       "      <td>1</td>\n",
       "      <td>Screen cracked by it self!</td>\n",
       "      <td>147</td>\n",
       "    </tr>\n",
       "    <tr>\n",
       "      <th>878071</th>\n",
       "      <td>very thin plastic, chips easily and broke on m...</td>\n",
       "      <td>1</td>\n",
       "      <td>Avoid this one.</td>\n",
       "      <td>139</td>\n",
       "    </tr>\n",
       "    <tr>\n",
       "      <th>697177</th>\n",
       "      <td>very flimsy case; not good quality plastic and...</td>\n",
       "      <td>1</td>\n",
       "      <td>not good quality plastic and image seems like ...</td>\n",
       "      <td>197</td>\n",
       "    </tr>\n",
       "    <tr>\n",
       "      <th>44635</th>\n",
       "      <td>bad</td>\n",
       "      <td>1</td>\n",
       "      <td>One Star</td>\n",
       "      <td>3</td>\n",
       "    </tr>\n",
       "  </tbody>\n",
       "</table>\n",
       "</div>"
      ],
      "text/plain": [
       "                                                    Review  Rating  \\\n",
       "1081840  the oneplus 1 and the other one plus phone are...       1   \n",
       "953928   screen cracked by it self, 3 days of use, crac...       1   \n",
       "878071   very thin plastic, chips easily and broke on m...       1   \n",
       "697177   very flimsy case; not good quality plastic and...       1   \n",
       "44635                                                  bad       1   \n",
       "\n",
       "                                                   Summary  Review_Length  \n",
       "1081840  Nothing can help oneplus delicate phones nor t...            700  \n",
       "953928                          Screen cracked by it self!            147  \n",
       "878071                                     Avoid this one.            139  \n",
       "697177   not good quality plastic and image seems like ...            197  \n",
       "44635                                             One Star              3  "
      ]
     },
     "execution_count": 15,
     "metadata": {},
     "output_type": "execute_result"
    }
   ],
   "source": [
    "# Shuffle the rows of the data frame before split\n",
    "amazon_split_shuffled = []\n",
    "for df in amazon_split:\n",
    "    amazon_split_shuffled.append( df.sample(frac = 1, random_state = 123) )\n",
    "\n",
    "# The rows have been randomised\n",
    "amazon_split_shuffled[0].head()"
   ]
  },
  {
   "cell_type": "markdown",
   "id": "31e4dd1b-930f-4be1-8c22-f79fdca551ae",
   "metadata": {},
   "source": [
    "Splitting the dataset into chunks containing around 5000 rows."
   ]
  },
  {
   "cell_type": "code",
   "execution_count": 16,
   "id": "72653ff9-56d9-4a1c-8dc0-9ce60d4db281",
   "metadata": {
    "tags": []
   },
   "outputs": [
    {
     "name": "stdout",
     "output_type": "stream",
     "text": [
      "5011 5011\n"
     ]
    }
   ],
   "source": [
    "# Split the dataframe into chunks where each chunk contains around 5000 data points\n",
    "amazon_one_chunks = np.array_split(amazon_split_shuffled[0], num[0])\n",
    "amazon_five_chunks = np.array_split(amazon_split_shuffled[1], num[1])\n",
    "\n",
    "print(amazon_five_chunks[0].shape[0], amazon_five_chunks[3].shape[0])"
   ]
  },
  {
   "cell_type": "markdown",
   "id": "7410358f-541c-4b57-8239-f4bbb3784036",
   "metadata": {},
   "source": [
    "Let's define the train, validate, test data. (The remaining data will be used once I learn to handle larger datasets better.)"
   ]
  },
  {
   "cell_type": "code",
   "execution_count": 17,
   "id": "b65475b8-99a6-4ff4-afc1-78b2a541f18b",
   "metadata": {
    "tags": []
   },
   "outputs": [],
   "source": [
    "# List of dataframes to merge\n",
    "train = [amazon_one_chunks[0], amazon_five_chunks[0]]\n",
    "validate = [amazon_one_chunks[1], amazon_five_chunks[1]]\n",
    "test = [amazon_one_chunks[2], amazon_five_chunks[2]]\n",
    "\n",
    "# Training chunk\n",
    "amazon_train = pd.concat( train )\n",
    "amazon_train.reset_index(inplace = True, drop = True)\n",
    "\n",
    "# Validating chunk\n",
    "amazon_validate = pd.concat( validate )\n",
    "amazon_validate.reset_index(inplace = True, drop = True)\n",
    "\n",
    "# Testing chunk\n",
    "amazon_test = pd.concat( test )\n",
    "amazon_test.reset_index(inplace = True, drop = True)"
   ]
  },
  {
   "cell_type": "code",
   "execution_count": 18,
   "id": "329e07ec-263a-4de1-9574-4b8f9d17ef58",
   "metadata": {
    "tags": []
   },
   "outputs": [
    {
     "data": {
      "image/png": "[encoded data removed]",
      "text/plain": [
       "<Figure size 700x400 with 3 Axes>"
      ]
     },
     "metadata": {},
     "output_type": "display_data"
    }
   ],
   "source": [
    "# Replotting the counts for each rating in the train, validate, test datasets\n",
    "fig, ax = plt.subplots(nrows = 1, ncols = 3, figsize = (7,4))\n",
    "\n",
    "sns.barplot(data = amazon_train.Rating.value_counts().sort_index().to_frame().reset_index(), y = \"Rating\", x = \"index\", ax = ax[0])\n",
    "ax[0].set_xlabel(\"Rating\", family = \"monospace\", size = 12, fontweight = \"bold\")\n",
    "ax[0].set_ylabel(\"Count\", family = \"monospace\", size = 12, fontweight = \"bold\")\n",
    "ax[0].set_title(\"Training data\", size = 8, family = \"monospace\")\n",
    "\n",
    "sns.barplot(data = amazon_validate.Rating.value_counts().sort_index().to_frame().reset_index(), y = \"Rating\", x = \"index\", ax = ax[1])\n",
    "ax[1].set_xlabel(\"Rating\", family = \"monospace\", size = 12, fontweight = \"bold\")\n",
    "ax[1].set_ylabel(\"Count\", family = \"monospace\", size = 12, fontweight = \"bold\")\n",
    "ax[1].set_title(\"Validating data\", size = 8, family = \"monospace\")\n",
    "\n",
    "sns.barplot(data = amazon_test.Rating.value_counts().sort_index().to_frame().reset_index(), y = \"Rating\", x = \"index\", ax = ax[2])\n",
    "ax[2].set_xlabel(\"Rating\", family = \"monospace\", size = 12, fontweight = \"bold\")\n",
    "ax[2].set_ylabel(\"Count\", family = \"monospace\", size = 12, fontweight = \"bold\")\n",
    "ax[2].set_title(\"Testing data\", size = 8, family = \"monospace\")\n",
    "\n",
    "plt.tight_layout()"
   ]
  },
  {
   "cell_type": "markdown",
   "id": "12d2b5e8-4a9c-4adb-8020-0e6fea346e3b",
   "metadata": {},
   "source": [
    "Finally, we have arrived at a balanced dataset with just two ratings, 1 and 5. We continue to further clean and format the data."
   ]
  },
  {
   "cell_type": "code",
   "execution_count": 19,
   "id": "f9c33dc3-2914-4559-b997-a1b5db842a7c",
   "metadata": {
    "tags": []
   },
   "outputs": [
    {
     "data": {
      "text/plain": [
       "3"
      ]
     },
     "execution_count": 19,
     "metadata": {},
     "output_type": "execute_result"
    }
   ],
   "source": [
    "# Indices of the empty summary\n",
    "summary_na_index = amazon_train[amazon_train.Summary.isna() == True].index.values\n",
    "summary_na_index.size"
   ]
  },
  {
   "cell_type": "code",
   "execution_count": 20,
   "id": "6316efd0-606d-4522-a3c2-97769adb99fa",
   "metadata": {
    "tags": []
   },
   "outputs": [],
   "source": [
    "# Replacing the nan summary with the full review text\n",
    "for index in summary_na_index:\n",
    "    amazon_train.loc[index, \"Summary\"] = amazon_train.loc[index, \"Review\"]"
   ]
  },
  {
   "cell_type": "code",
   "execution_count": 21,
   "id": "c49362b6-89df-4869-86f2-d78f74feba5c",
   "metadata": {
    "tags": []
   },
   "outputs": [
    {
     "data": {
      "text/plain": [
       "0"
      ]
     },
     "execution_count": 21,
     "metadata": {},
     "output_type": "execute_result"
    }
   ],
   "source": [
    "amazon_train[ amazon_train.Summary.isna() == True ].index.values.size"
   ]
  },
  {
   "cell_type": "code",
   "execution_count": 22,
   "id": "f927e94d-79c8-486e-8b02-3332aa1894dd",
   "metadata": {
    "tags": []
   },
   "outputs": [],
   "source": [
    "# Changing summary text to lowercase\n",
    "amazon_train.Summary = amazon_train.Summary.apply(lambda x: x.lower())"
   ]
  },
  {
   "cell_type": "code",
   "execution_count": 23,
   "id": "9418d67a-04cb-4d33-9a76-0bdd1a18309e",
   "metadata": {
    "tags": []
   },
   "outputs": [
    {
     "name": "stdout",
     "output_type": "stream",
     "text": [
      "Rating\n",
      "1    258.253189\n",
      "5    239.117342\n",
      "Name: Review_Length, dtype: float64\n"
     ]
    }
   ],
   "source": [
    "# Average length (total characters) of review text\n",
    "print(amazon_train.groupby(\"Rating\")[\"Review_Length\"].mean())"
   ]
  },
  {
   "cell_type": "code",
   "execution_count": 24,
   "id": "6b2f233f-1fe0-42c9-957a-c9d577d9c785",
   "metadata": {
    "tags": []
   },
   "outputs": [
    {
     "data": {
      "text/plain": [
       "Text(0.5, 1.0, 'Histogram')"
      ]
     },
     "execution_count": 24,
     "metadata": {},
     "output_type": "execute_result"
    },
    {
     "data": {
      "image/png": "[encoded data removed]",
      "text/plain": [
       "<Figure size 700x400 with 1 Axes>"
      ]
     },
     "metadata": {},
     "output_type": "display_data"
    }
   ],
   "source": [
    "# Histogram plot of the review text length\n",
    "fig, ax = plt.subplots(figsize = (7,4))\n",
    "sns.histplot(data = amazon_train, x = \"Review_Length\", bins = 300, ax = ax, color = 'teal', alpha = 0.5)\n",
    "ax.set_xlabel(\"Length of review text\", family = 'monospace', size = 12, fontweight = 'bold' )\n",
    "ax.set_ylabel(\"Count\", family = 'monospace', size = 12, fontweight = 'bold' )\n",
    "ax.set_title(\"Histogram\", family = 'monospace', size = 15, fontweight = 'bold' )"
   ]
  },
  {
   "cell_type": "markdown",
   "id": "25de93d1-eb8f-408f-9ecf-ec1100940c22",
   "metadata": {},
   "source": [
    "From above, we see that even though the average review text is around 250 characters long, there are numerous reviews with large number of characters. For efficiency and simplicity, we need to deal with this issue. \n",
    "\n",
    "The approach we take is replacing around 1% of the longest review text by its corresponding summary text."
   ]
  },
  {
   "cell_type": "code",
   "execution_count": 25,
   "id": "352c4975-af2e-44a0-a0a2-23308aeb0731",
   "metadata": {
    "tags": []
   },
   "outputs": [
    {
     "data": {
      "text/plain": [
       "1800"
      ]
     },
     "execution_count": 25,
     "metadata": {},
     "output_type": "execute_result"
    }
   ],
   "source": [
    "# Finding the length of text above which there exists only around 1% of the data\n",
    "lengths = np.linspace(0,30000,101)\n",
    "for length in lengths:\n",
    "    if abs( amazon_train[ amazon_train.Review_Length > length ].shape[0]/amazon_train.shape[0] * 100 - 1 ) < 0.5:\n",
    "        cutoff = int(length)\n",
    "        break\n",
    "cutoff "
   ]
  },
  {
   "cell_type": "code",
   "execution_count": 26,
   "id": "f70f705e-9a74-406e-b88e-dfbde8b358c8",
   "metadata": {
    "tags": []
   },
   "outputs": [
    {
     "data": {
      "text/plain": [
       "1.2170987532159112"
      ]
     },
     "execution_count": 26,
     "metadata": {},
     "output_type": "execute_result"
    }
   ],
   "source": [
    "amazon_train[amazon_train.Review_Length > cutoff ].shape[0]/amazon_train.shape[0] * 100"
   ]
  },
  {
   "cell_type": "markdown",
   "id": "ac478b50-8ac1-4e4e-b783-6a39e3bb6fb4",
   "metadata": {},
   "source": [
    "We see that the data with review text length greater than 1800 characters corresponds to around 1% of the entire dataset. We shall replace these reviews by its summary."
   ]
  },
  {
   "cell_type": "code",
   "execution_count": 27,
   "id": "11366c5d-e9c5-4b37-8b9b-ab4ca81e86b9",
   "metadata": {
    "tags": []
   },
   "outputs": [
    {
     "data": {
      "text/plain": [
       "123"
      ]
     },
     "execution_count": 27,
     "metadata": {},
     "output_type": "execute_result"
    }
   ],
   "source": [
    "# Indices of the largest 1% data\n",
    "large_length_index = amazon_train[ amazon_train.Review_Length > cutoff ].index.values\n",
    "large_length_index.size"
   ]
  },
  {
   "cell_type": "code",
   "execution_count": 28,
   "id": "db44e81d-33d4-4f63-abd8-f567d36c91bb",
   "metadata": {
    "tags": []
   },
   "outputs": [],
   "source": [
    "# Replacing the review text with summary text\n",
    "for index in large_length_index:\n",
    "    amazon_train.loc[index, \"Review\"] = amazon_train.loc[index, \"Summary\"]\n",
    "    amazon_train.loc[index, \"Review_Length\"] = len(amazon_train.loc[index, \"Summary\"])"
   ]
  },
  {
   "cell_type": "code",
   "execution_count": 29,
   "id": "63f31f3d-f4d2-4658-81d1-cf0454c50f51",
   "metadata": {
    "tags": []
   },
   "outputs": [
    {
     "data": {
      "text/plain": [
       "0"
      ]
     },
     "execution_count": 29,
     "metadata": {},
     "output_type": "execute_result"
    }
   ],
   "source": [
    "amazon_train[ amazon_train.Review_Length > cutoff ].index.values.size"
   ]
  },
  {
   "cell_type": "code",
   "execution_count": 30,
   "id": "ebb9303f-d325-4d26-923e-88f410def3b5",
   "metadata": {
    "tags": []
   },
   "outputs": [
    {
     "data": {
      "text/plain": [
       "Text(0.5, 1.0, 'Histogram')"
      ]
     },
     "execution_count": 30,
     "metadata": {},
     "output_type": "execute_result"
    },
    {
     "data": {
      "image/png": "[encoded data removed]",
      "text/plain": [
       "<Figure size 700x400 with 1 Axes>"
      ]
     },
     "metadata": {},
     "output_type": "display_data"
    }
   ],
   "source": [
    "# Histogram plot of the review text length after replacing the largest 1%\n",
    "fig, ax = plt.subplots(figsize = (7,4))\n",
    "sns.histplot(data = amazon_train, x = \"Review_Length\", bins = 300, ax = ax, color = 'teal', alpha = 0.5)\n",
    "ax.set_xlabel(\"Length of review text\", family = 'monospace', size = 12, fontweight = 'bold' )\n",
    "ax.set_ylabel(\"Count\", family = 'monospace', size = 12, fontweight = 'bold' )\n",
    "ax.set_title(\"Histogram\", family = 'monospace', size = 15, fontweight = 'bold' )"
   ]
  },
  {
   "cell_type": "code",
   "execution_count": 31,
   "id": "489c8cca-5917-4e03-8603-6289af423048",
   "metadata": {
    "tags": []
   },
   "outputs": [
    {
     "data": {
      "text/plain": [
       "1"
      ]
     },
     "execution_count": 31,
     "metadata": {},
     "output_type": "execute_result"
    }
   ],
   "source": [
    "# Shortest reviews\n",
    "amazon_train.Review_Length.min()"
   ]
  },
  {
   "cell_type": "markdown",
   "id": "2cbbc603-6a87-4197-98c6-440e87e4d3cf",
   "metadata": {},
   "source": [
    "Since a single letter review is not useful for machine learning, we shall remove these."
   ]
  },
  {
   "cell_type": "code",
   "execution_count": 32,
   "id": "27015452-b25c-416c-ba26-b8df2432baf1",
   "metadata": {
    "tags": []
   },
   "outputs": [
    {
     "data": {
      "text/plain": [
       "array([303])"
      ]
     },
     "execution_count": 32,
     "metadata": {},
     "output_type": "execute_result"
    }
   ],
   "source": [
    "# Indices of the single character reviews\n",
    "length_one_index = amazon_train[ amazon_train.Review_Length == 1].index.values\n",
    "length_one_index"
   ]
  },
  {
   "cell_type": "code",
   "execution_count": 33,
   "id": "ff7f5c33-efdb-4237-8e80-4d751bd36ffd",
   "metadata": {
    "tags": []
   },
   "outputs": [],
   "source": [
    "# Dropping the single character reviews\n",
    "amazon_train.drop(index = length_one_index, inplace = True)"
   ]
  },
  {
   "cell_type": "code",
   "execution_count": 34,
   "id": "bbe9b5c4-27d1-4ca0-aba4-3b23166932b6",
   "metadata": {
    "tags": []
   },
   "outputs": [],
   "source": [
    "amazon_train.reset_index(inplace = True, drop = True)"
   ]
  },
  {
   "cell_type": "markdown",
   "id": "89078e62-1388-4724-8a2f-bfc4f0aabac4",
   "metadata": {},
   "source": [
    "## 2) Tokenization\n",
    "\n",
    "##### In this section, we move onto some basic Tokenization of the review texts using nltk, keras and then use sklearn to vectorize the review texts. \n",
    "\n",
    "The training set will be fitted to CountVectorizer to identify all the unique tokens that are present. Then the dataset is transformed such that the entire corpus is vectorized as a bag-of-word (matrix). Lastly, this matrix is turned into a tfidf sparse matrix.\n",
    "\n",
    "We avoid using a pipeline here so that each step is clarified in detail for learning purposes."
   ]
  },
  {
   "cell_type": "code",
   "execution_count": 35,
   "id": "983bc28d-3d77-4f57-8ce8-86d073a943b0",
   "metadata": {
    "tags": []
   },
   "outputs": [],
   "source": [
    "# Useful libraries for predefined stopwords and string tokenizer \n",
    "from nltk.corpus import stopwords\n",
    "from keras.preprocessing.text import text_to_word_sequence"
   ]
  },
  {
   "cell_type": "code",
   "execution_count": 36,
   "id": "b65344e7-df29-4dbc-9436-d8ee0e4f23a9",
   "metadata": {
    "tags": []
   },
   "outputs": [],
   "source": [
    "# A function used to remove punctuations, common words and return a list of remaining words in the input string (tokenizer)\n",
    "def text_process(text):\n",
    "    \"\"\"\n",
    "    1) Remove all punctuations and split text into token using text_to_word_sequence\n",
    "    2) Remove all common words: through stopwords\n",
    "    3) Returns list of remaining (useful) tokens for each input string\n",
    "    \"\"\"\n",
    "    \n",
    "    # Remove punctuations and split text into token list\n",
    "    clean = []\n",
    "    for token in text_to_word_sequence(text):\n",
    "        if token not in stopwords.words('english'):\n",
    "            clean.append(token)\n",
    "    \n",
    "    # Remove common words\n",
    "    clean_words_2 = []\n",
    "    for word in clean:\n",
    "        clean_words_2.append( word.replace('\\n','').replace('\\t', ''))\n",
    "        \n",
    "    return clean_words_2"
   ]
  },
  {
   "cell_type": "markdown",
   "id": "199cfc96-de4e-4113-bd7f-86e95b07b304",
   "metadata": {},
   "source": [
    "Vectorization of each review (from token to vector). Again, we avoid using a pipeline so that each step is clarified in detail for learning purposes."
   ]
  },
  {
   "cell_type": "code",
   "execution_count": 37,
   "id": "afa78d11-5ad7-416f-aebe-1b5fdbd86eff",
   "metadata": {
    "tags": []
   },
   "outputs": [],
   "source": [
    "# Used for converting list of tokens to a count vector (bag-of-words)\n",
    "from sklearn.feature_extraction.text import CountVectorizer "
   ]
  },
  {
   "cell_type": "code",
   "execution_count": 39,
   "id": "6cb87928-310b-4336-86e2-b02e018cf0e2",
   "metadata": {
    "tags": []
   },
   "outputs": [],
   "source": [
    "# Creating a CountVectorizer object: fitted to a corpus (collection) of texts and creates a matrix indicating all the unique words/tokens\n",
    "# Also transforms a corpus to sparse bag-of-word matrix\n",
    "bow_transformer = CountVectorizer( analyzer = text_process)"
   ]
  },
  {
   "cell_type": "code",
   "execution_count": 40,
   "id": "932affe6-d6a3-41a5-9f00-5a8398e42668",
   "metadata": {
    "tags": []
   },
   "outputs": [
    {
     "data": {
      "text/html": [
       "<style>#sk-container-id-1 {color: black;background-color: white;}#sk-container-id-1 pre{padding: 0;}#sk-container-id-1 div.sk-toggleable {background-color: white;}#sk-container-id-1 label.sk-toggleable__label {cursor: pointer;display: block;width: 100%;margin-bottom: 0;padding: 0.3em;box-sizing: border-box;text-align: center;}#sk-container-id-1 label.sk-toggleable__label-arrow:before {content: \"▸\";float: left;margin-right: 0.25em;color: #696969;}#sk-container-id-1 label.sk-toggleable__label-arrow:hover:before {color: black;}#sk-container-id-1 div.sk-estimator:hover label.sk-toggleable__label-arrow:before {color: black;}#sk-container-id-1 div.sk-toggleable__content {max-height: 0;max-width: 0;overflow: hidden;text-align: left;background-color: #f0f8ff;}#sk-container-id-1 div.sk-toggleable__content pre {margin: 0.2em;color: black;border-radius: 0.25em;background-color: #f0f8ff;}#sk-container-id-1 input.sk-toggleable__control:checked~div.sk-toggleable__content {max-height: 200px;max-width: 100%;overflow: auto;}#sk-container-id-1 input.sk-toggleable__control:checked~label.sk-toggleable__label-arrow:before {content: \"▾\";}#sk-container-id-1 div.sk-estimator input.sk-toggleable__control:checked~label.sk-toggleable__label {background-color: #d4ebff;}#sk-container-id-1 div.sk-label input.sk-toggleable__control:checked~label.sk-toggleable__label {background-color: #d4ebff;}#sk-container-id-1 input.sk-hidden--visually {border: 0;clip: rect(1px 1px 1px 1px);clip: rect(1px, 1px, 1px, 1px);height: 1px;margin: -1px;overflow: hidden;padding: 0;position: absolute;width: 1px;}#sk-container-id-1 div.sk-estimator {font-family: monospace;background-color: #f0f8ff;border: 1px dotted black;border-radius: 0.25em;box-sizing: border-box;margin-bottom: 0.5em;}#sk-container-id-1 div.sk-estimator:hover {background-color: #d4ebff;}#sk-container-id-1 div.sk-parallel-item::after {content: \"\";width: 100%;border-bottom: 1px solid gray;flex-grow: 1;}#sk-container-id-1 div.sk-label:hover label.sk-toggleable__label {background-color: #d4ebff;}#sk-container-id-1 div.sk-serial::before {content: \"\";position: absolute;border-left: 1px solid gray;box-sizing: border-box;top: 0;bottom: 0;left: 50%;z-index: 0;}#sk-container-id-1 div.sk-serial {display: flex;flex-direction: column;align-items: center;background-color: white;padding-right: 0.2em;padding-left: 0.2em;position: relative;}#sk-container-id-1 div.sk-item {position: relative;z-index: 1;}#sk-container-id-1 div.sk-parallel {display: flex;align-items: stretch;justify-content: center;background-color: white;position: relative;}#sk-container-id-1 div.sk-item::before, #sk-container-id-1 div.sk-parallel-item::before {content: \"\";position: absolute;border-left: 1px solid gray;box-sizing: border-box;top: 0;bottom: 0;left: 50%;z-index: -1;}#sk-container-id-1 div.sk-parallel-item {display: flex;flex-direction: column;z-index: 1;position: relative;background-color: white;}#sk-container-id-1 div.sk-parallel-item:first-child::after {align-self: flex-end;width: 50%;}#sk-container-id-1 div.sk-parallel-item:last-child::after {align-self: flex-start;width: 50%;}#sk-container-id-1 div.sk-parallel-item:only-child::after {width: 0;}#sk-container-id-1 div.sk-dashed-wrapped {border: 1px dashed gray;margin: 0 0.4em 0.5em 0.4em;box-sizing: border-box;padding-bottom: 0.4em;background-color: white;}#sk-container-id-1 div.sk-label label {font-family: monospace;font-weight: bold;display: inline-block;line-height: 1.2em;}#sk-container-id-1 div.sk-label-container {text-align: center;}#sk-container-id-1 div.sk-container {/* jupyter's `normalize.less` sets `[hidden] { display: none; }` but bootstrap.min.css set `[hidden] { display: none !important; }` so we also need the `!important` here to be able to override the default hidden behavior on the sphinx rendered scikit-learn.org. See: https://github.com/scikit-learn/scikit-learn/issues/21755 */display: inline-block !important;position: relative;}#sk-container-id-1 div.sk-text-repr-fallback {display: none;}</style><div id=\"sk-container-id-1\" class=\"sk-top-container\"><div class=\"sk-text-repr-fallback\"><pre>CountVectorizer(analyzer=&lt;function text_process at 0x2a84fff70&gt;)</pre><b>In a Jupyter environment, please rerun this cell to show the HTML representation or trust the notebook. <br />On GitHub, the HTML representation is unable to render, please try loading this page with nbviewer.org.</b></div><div class=\"sk-container\" hidden><div class=\"sk-item\"><div class=\"sk-estimator sk-toggleable\"><input class=\"sk-toggleable__control sk-hidden--visually\" id=\"sk-estimator-id-1\" type=\"checkbox\" checked><label for=\"sk-estimator-id-1\" class=\"sk-toggleable__label sk-toggleable__label-arrow\">CountVectorizer</label><div class=\"sk-toggleable__content\"><pre>CountVectorizer(analyzer=&lt;function text_process at 0x2a84fff70&gt;)</pre></div></div></div></div></div>"
      ],
      "text/plain": [
       "CountVectorizer(analyzer=<function text_process at 0x2a84fff70>)"
      ]
     },
     "execution_count": 40,
     "metadata": {},
     "output_type": "execute_result"
    }
   ],
   "source": [
    "# Fitting to our collection of review texts: identifies all the unique tokens across the entire collection\n",
    "bow_transformer.fit( amazon_train.Review )"
   ]
  },
  {
   "cell_type": "code",
   "execution_count": 41,
   "id": "e23c8adc-9896-4c0e-814a-1d86c49ffec1",
   "metadata": {
    "tags": []
   },
   "outputs": [
    {
     "data": {
      "text/plain": [
       "11902"
      ]
     },
     "execution_count": 41,
     "metadata": {},
     "output_type": "execute_result"
    }
   ],
   "source": [
    "# Total number of unique tokens after fitting\n",
    "len( bow_transformer.vocabulary_ )"
   ]
  },
  {
   "cell_type": "code",
   "execution_count": 43,
   "id": "2b2ee5fb-e676-4658-bcab-a919eb92abb0",
   "metadata": {
    "tags": []
   },
   "outputs": [
    {
     "data": {
      "text/plain": [
       "array(['stopper', 'stoppers', 'stopping', 'stoppped', 'stops', 'storage',\n",
       "       'store', 'stored', 'stores', 'stories', 'storing', 'storm',\n",
       "       'storms', 'story', 'stout', 'stove', 'straight', 'straighten',\n",
       "       'straightforward', 'straighttalk', 'strain', 'strained',\n",
       "       'strainer', 'strait', 'stranded', 'strange', 'strangers', 'strap',\n",
       "       'straps', 'stratosphere', 'straw', 'straws', 'stray', 'streak',\n",
       "       'streaked', 'streaking', 'streaks', 'stream', 'streamed',\n",
       "       'streaming', 'streamline', 'streamlined', 'street', \"street's\",\n",
       "       'strength', 'strengths', 'strenuous', 'stress', 'stretch',\n",
       "       'stretche', 'stretched', 'stretches', 'stretching', 'stretchy',\n",
       "       'strict', 'strictly', 'strike', 'striking', 'string', 'strip',\n",
       "       'stripe', 'stripped', 'stripping', 'strips', 'striving', 'stroke',\n",
       "       'strokes', 'strong', 'stronger', 'strongest', 'strongly', 'struck',\n",
       "       'structural', 'structure', 'strudy', 'struggle', 'struggled',\n",
       "       'struggling', 'strut', 'stubborn', 'stubby', 'stuck', 'stucked',\n",
       "       'studded', 'student', 'students', 'studio', \"studio's\", 'studs',\n",
       "       'study', 'studying', 'stuff', 'stuffed', 'stuffers', 'stumbled',\n",
       "       'stunk', 'stunning', 'stunningly', 'stupid', 'stupidly', 'sturday'],\n",
       "      dtype=object)"
      ]
     },
     "execution_count": 43,
     "metadata": {},
     "output_type": "execute_result"
    }
   ],
   "source": [
    "# Displaying 100 tokens\n",
    "bow_transformer.get_feature_names_out()[10000:10101]"
   ]
  },
  {
   "cell_type": "code",
   "execution_count": 44,
   "id": "e7d166de-eba4-476c-aecc-dff93908a1ba",
   "metadata": {
    "tags": []
   },
   "outputs": [],
   "source": [
    "# Generating a random review text\n",
    "rand_index = np.random.randint(0,len(amazon_train)-1)\n",
    "text = amazon_train.iloc[rand_index].Review"
   ]
  },
  {
   "cell_type": "code",
   "execution_count": 45,
   "id": "356c54b0-7244-4260-b72b-bb04bb56c56b",
   "metadata": {
    "tags": []
   },
   "outputs": [
    {
     "name": "stdout",
     "output_type": "stream",
     "text": [
      "  (0, 3889)\t1\n",
      "  (0, 9040)\t1\n"
     ]
    }
   ],
   "source": [
    "# The index, frequency of the token present in text\n",
    "sparse_text = bow_transformer.transform([text])\n",
    "print(sparse_text)"
   ]
  },
  {
   "cell_type": "code",
   "execution_count": 46,
   "id": "ecfde2b5-bd88-49af-81a4-ebe3fb8cfcb6",
   "metadata": {
    "tags": []
   },
   "outputs": [
    {
     "data": {
      "text/html": [
       "<div>\n",
       "<style scoped>\n",
       "    .dataframe tbody tr th:only-of-type {\n",
       "        vertical-align: middle;\n",
       "    }\n",
       "\n",
       "    .dataframe tbody tr th {\n",
       "        vertical-align: top;\n",
       "    }\n",
       "\n",
       "    .dataframe thead th {\n",
       "        text-align: right;\n",
       "    }\n",
       "</style>\n",
       "<table border=\"1\" class=\"dataframe\">\n",
       "  <thead>\n",
       "    <tr style=\"text-align: right;\">\n",
       "      <th></th>\n",
       "      <th>0</th>\n",
       "      <th>1</th>\n",
       "      <th>2</th>\n",
       "      <th>3</th>\n",
       "      <th>4</th>\n",
       "      <th>5</th>\n",
       "      <th>6</th>\n",
       "      <th>7</th>\n",
       "      <th>8</th>\n",
       "      <th>9</th>\n",
       "      <th>...</th>\n",
       "      <th>11892</th>\n",
       "      <th>11893</th>\n",
       "      <th>11894</th>\n",
       "      <th>11895</th>\n",
       "      <th>11896</th>\n",
       "      <th>11897</th>\n",
       "      <th>11898</th>\n",
       "      <th>11899</th>\n",
       "      <th>11900</th>\n",
       "      <th>11901</th>\n",
       "    </tr>\n",
       "  </thead>\n",
       "  <tbody>\n",
       "    <tr>\n",
       "      <th>0</th>\n",
       "      <td>0</td>\n",
       "      <td>0</td>\n",
       "      <td>0</td>\n",
       "      <td>0</td>\n",
       "      <td>0</td>\n",
       "      <td>0</td>\n",
       "      <td>0</td>\n",
       "      <td>0</td>\n",
       "      <td>0</td>\n",
       "      <td>0</td>\n",
       "      <td>...</td>\n",
       "      <td>0</td>\n",
       "      <td>0</td>\n",
       "      <td>0</td>\n",
       "      <td>0</td>\n",
       "      <td>0</td>\n",
       "      <td>0</td>\n",
       "      <td>0</td>\n",
       "      <td>0</td>\n",
       "      <td>0</td>\n",
       "      <td>0</td>\n",
       "    </tr>\n",
       "  </tbody>\n",
       "</table>\n",
       "<p>1 rows × 11902 columns</p>\n",
       "</div>"
      ],
      "text/plain": [
       "   0      1      2      3      4      5      6      7      8      9      ...  \\\n",
       "0      0      0      0      0      0      0      0      0      0      0  ...   \n",
       "\n",
       "   11892  11893  11894  11895  11896  11897  11898  11899  11900  11901  \n",
       "0      0      0      0      0      0      0      0      0      0      0  \n",
       "\n",
       "[1 rows x 11902 columns]"
      ]
     },
     "execution_count": 46,
     "metadata": {},
     "output_type": "execute_result"
    }
   ],
   "source": [
    "# The corresponding vector/matrix from the sparse matrix\n",
    "pd.DataFrame.sparse.from_spmatrix(sparse_text)"
   ]
  },
  {
   "cell_type": "markdown",
   "id": "ed37606e-47df-41f5-9af0-7608ea666690",
   "metadata": {},
   "source": [
    "Let's transform each review text into a bag-of-word vector i.e. count the number of times each token appears in the text and fill the count vector."
   ]
  },
  {
   "cell_type": "code",
   "execution_count": 47,
   "id": "a69f9cb6-7fd3-44a8-ae2d-a9d9f0562aee",
   "metadata": {
    "tags": []
   },
   "outputs": [],
   "source": [
    "# Vectorising (i.e. creating the bag of word matrix for) the entire dataset\n",
    "amazon_bow = bow_transformer.transform( amazon_train.Review )"
   ]
  },
  {
   "cell_type": "code",
   "execution_count": 48,
   "id": "326563a7-425a-46f6-a2b1-f00f39a5096b",
   "metadata": {
    "tags": []
   },
   "outputs": [
    {
     "data": {
      "text/plain": [
       "(10105, 11902)"
      ]
     },
     "execution_count": 48,
     "metadata": {},
     "output_type": "execute_result"
    }
   ],
   "source": [
    "# Checking the shape of the matrix\n",
    "amazon_bow.shape"
   ]
  },
  {
   "cell_type": "markdown",
   "id": "6339a592-7a4c-470c-add0-4ef80e04ee91",
   "metadata": {},
   "source": [
    "Finally we normalise the count bag-of-word matrix by applying TF-IDF (Term Frequency - Inverse Document Frequency) to each element. (Takes into account the entire corpus)"
   ]
  },
  {
   "cell_type": "code",
   "execution_count": 49,
   "id": "5035412e-62be-49fb-84be-e3cb77087383",
   "metadata": {
    "tags": []
   },
   "outputs": [],
   "source": [
    "# For normalising the bag-of-words matrix\n",
    "from sklearn.feature_extraction.text import TfidfTransformer"
   ]
  },
  {
   "cell_type": "code",
   "execution_count": 50,
   "id": "8bb07472-2765-45f3-a85e-3dd701f966e5",
   "metadata": {
    "tags": []
   },
   "outputs": [],
   "source": [
    "# tfidf object\n",
    "tfidf_transformer = TfidfTransformer()"
   ]
  },
  {
   "cell_type": "code",
   "execution_count": 51,
   "id": "499287da-db5d-4065-bfde-c688619a3815",
   "metadata": {
    "tags": []
   },
   "outputs": [
    {
     "data": {
      "text/html": [
       "<style>#sk-container-id-2 {color: black;background-color: white;}#sk-container-id-2 pre{padding: 0;}#sk-container-id-2 div.sk-toggleable {background-color: white;}#sk-container-id-2 label.sk-toggleable__label {cursor: pointer;display: block;width: 100%;margin-bottom: 0;padding: 0.3em;box-sizing: border-box;text-align: center;}#sk-container-id-2 label.sk-toggleable__label-arrow:before {content: \"▸\";float: left;margin-right: 0.25em;color: #696969;}#sk-container-id-2 label.sk-toggleable__label-arrow:hover:before {color: black;}#sk-container-id-2 div.sk-estimator:hover label.sk-toggleable__label-arrow:before {color: black;}#sk-container-id-2 div.sk-toggleable__content {max-height: 0;max-width: 0;overflow: hidden;text-align: left;background-color: #f0f8ff;}#sk-container-id-2 div.sk-toggleable__content pre {margin: 0.2em;color: black;border-radius: 0.25em;background-color: #f0f8ff;}#sk-container-id-2 input.sk-toggleable__control:checked~div.sk-toggleable__content {max-height: 200px;max-width: 100%;overflow: auto;}#sk-container-id-2 input.sk-toggleable__control:checked~label.sk-toggleable__label-arrow:before {content: \"▾\";}#sk-container-id-2 div.sk-estimator input.sk-toggleable__control:checked~label.sk-toggleable__label {background-color: #d4ebff;}#sk-container-id-2 div.sk-label input.sk-toggleable__control:checked~label.sk-toggleable__label {background-color: #d4ebff;}#sk-container-id-2 input.sk-hidden--visually {border: 0;clip: rect(1px 1px 1px 1px);clip: rect(1px, 1px, 1px, 1px);height: 1px;margin: -1px;overflow: hidden;padding: 0;position: absolute;width: 1px;}#sk-container-id-2 div.sk-estimator {font-family: monospace;background-color: #f0f8ff;border: 1px dotted black;border-radius: 0.25em;box-sizing: border-box;margin-bottom: 0.5em;}#sk-container-id-2 div.sk-estimator:hover {background-color: #d4ebff;}#sk-container-id-2 div.sk-parallel-item::after {content: \"\";width: 100%;border-bottom: 1px solid gray;flex-grow: 1;}#sk-container-id-2 div.sk-label:hover label.sk-toggleable__label {background-color: #d4ebff;}#sk-container-id-2 div.sk-serial::before {content: \"\";position: absolute;border-left: 1px solid gray;box-sizing: border-box;top: 0;bottom: 0;left: 50%;z-index: 0;}#sk-container-id-2 div.sk-serial {display: flex;flex-direction: column;align-items: center;background-color: white;padding-right: 0.2em;padding-left: 0.2em;position: relative;}#sk-container-id-2 div.sk-item {position: relative;z-index: 1;}#sk-container-id-2 div.sk-parallel {display: flex;align-items: stretch;justify-content: center;background-color: white;position: relative;}#sk-container-id-2 div.sk-item::before, #sk-container-id-2 div.sk-parallel-item::before {content: \"\";position: absolute;border-left: 1px solid gray;box-sizing: border-box;top: 0;bottom: 0;left: 50%;z-index: -1;}#sk-container-id-2 div.sk-parallel-item {display: flex;flex-direction: column;z-index: 1;position: relative;background-color: white;}#sk-container-id-2 div.sk-parallel-item:first-child::after {align-self: flex-end;width: 50%;}#sk-container-id-2 div.sk-parallel-item:last-child::after {align-self: flex-start;width: 50%;}#sk-container-id-2 div.sk-parallel-item:only-child::after {width: 0;}#sk-container-id-2 div.sk-dashed-wrapped {border: 1px dashed gray;margin: 0 0.4em 0.5em 0.4em;box-sizing: border-box;padding-bottom: 0.4em;background-color: white;}#sk-container-id-2 div.sk-label label {font-family: monospace;font-weight: bold;display: inline-block;line-height: 1.2em;}#sk-container-id-2 div.sk-label-container {text-align: center;}#sk-container-id-2 div.sk-container {/* jupyter's `normalize.less` sets `[hidden] { display: none; }` but bootstrap.min.css set `[hidden] { display: none !important; }` so we also need the `!important` here to be able to override the default hidden behavior on the sphinx rendered scikit-learn.org. See: https://github.com/scikit-learn/scikit-learn/issues/21755 */display: inline-block !important;position: relative;}#sk-container-id-2 div.sk-text-repr-fallback {display: none;}</style><div id=\"sk-container-id-2\" class=\"sk-top-container\"><div class=\"sk-text-repr-fallback\"><pre>TfidfTransformer()</pre><b>In a Jupyter environment, please rerun this cell to show the HTML representation or trust the notebook. <br />On GitHub, the HTML representation is unable to render, please try loading this page with nbviewer.org.</b></div><div class=\"sk-container\" hidden><div class=\"sk-item\"><div class=\"sk-estimator sk-toggleable\"><input class=\"sk-toggleable__control sk-hidden--visually\" id=\"sk-estimator-id-2\" type=\"checkbox\" checked><label for=\"sk-estimator-id-2\" class=\"sk-toggleable__label sk-toggleable__label-arrow\">TfidfTransformer</label><div class=\"sk-toggleable__content\"><pre>TfidfTransformer()</pre></div></div></div></div></div>"
      ],
      "text/plain": [
       "TfidfTransformer()"
      ]
     },
     "execution_count": 51,
     "metadata": {},
     "output_type": "execute_result"
    }
   ],
   "source": [
    "# Fitting\n",
    "tfidf_transformer.fit(amazon_bow)"
   ]
  },
  {
   "cell_type": "code",
   "execution_count": 52,
   "id": "35c1d4e4-1495-4dfd-955f-7e976e193be7",
   "metadata": {
    "tags": []
   },
   "outputs": [],
   "source": [
    "# Taking the (frequency) bag-of-words sparse matrix and normalising it to punish highly frequent tokens\n",
    "amazon_tfidf = tfidf_transformer.transform(amazon_bow)"
   ]
  },
  {
   "cell_type": "code",
   "execution_count": 53,
   "id": "2f0bb14f-67a5-44ee-8c7e-de75120567d4",
   "metadata": {
    "tags": []
   },
   "outputs": [],
   "source": [
    "text_tfidf = tfidf_transformer.transform(sparse_text)"
   ]
  },
  {
   "cell_type": "markdown",
   "id": "156d81ab-d386-4d16-9ddd-144edd508441",
   "metadata": {},
   "source": [
    "## 3) Deep Learning: Using feedforward dense neural networks for classification\n",
    "\n",
    "##### In this section, we train a neural network classifier with Dense layers. Early stopping and Dropout layers are included to avoid overfitting. Rectified Linear Unit activation is used for the hidden layers with two softmax output layers.\n",
    "\n",
    "Note, even though this is a binary classification problem and thus sigmoid would be a good choice, we use softmax output, with one-hot encoding for personal learning purposes."
   ]
  },
  {
   "cell_type": "code",
   "execution_count": 54,
   "id": "6ca31e9c-f9d0-49d4-9756-c4324c4b9a4b",
   "metadata": {
    "tags": []
   },
   "outputs": [],
   "source": [
    "# Imports for neural networks\n",
    "from tensorflow.keras.models import Sequential\n",
    "from tensorflow.keras.layers import Dense, Dropout\n",
    "from tensorflow.keras.callbacks import EarlyStopping"
   ]
  },
  {
   "cell_type": "code",
   "execution_count": 55,
   "id": "eaf6eb23-ac74-4d2c-bfd2-856dc64fde04",
   "metadata": {
    "tags": []
   },
   "outputs": [],
   "source": [
    "#Classification metrics\n",
    "from sklearn.metrics import confusion_matrix\n",
    "from sklearn.metrics import classification_report\n",
    "from sklearn.metrics import f1_score"
   ]
  },
  {
   "cell_type": "code",
   "execution_count": 56,
   "id": "d72bfa24-7aca-48dc-9391-1de129f8dd5d",
   "metadata": {
    "tags": []
   },
   "outputs": [],
   "source": [
    "# Converting the sparse bag-of-words (tfidf) matrix to a full DataFrame object for training features\n",
    "X_train = pd.DataFrame.sparse.from_spmatrix(amazon_tfidf)"
   ]
  },
  {
   "cell_type": "code",
   "execution_count": 57,
   "id": "6e42bdff-eb88-4d1b-870d-a57900f53b04",
   "metadata": {
    "tags": []
   },
   "outputs": [],
   "source": [
    "# Extracting the values as a matrix for neural network \n",
    "X_train = X_train.values"
   ]
  },
  {
   "cell_type": "code",
   "execution_count": 64,
   "id": "3ea58856-0861-4d86-b358-1fa8231b84eb",
   "metadata": {
    "tags": []
   },
   "outputs": [],
   "source": [
    "# Extracting the training categorial label\n",
    "y_train = amazon_train[[\"Rating\"]]"
   ]
  },
  {
   "cell_type": "code",
   "execution_count": 65,
   "id": "2cc2588a-0afc-4a1e-b736-9e2f7cd8ab8a",
   "metadata": {
    "tags": []
   },
   "outputs": [],
   "source": [
    "# Converting the rating (1 or 5) into dummy variables - to use as a vector label for neural network (one-got encoding)\n",
    "y_train = pd.get_dummies(data = y_train, columns = [\"Rating\"]).values"
   ]
  },
  {
   "cell_type": "markdown",
   "id": "f330cd72-44f5-4786-9a19-d3d506b00d14",
   "metadata": {},
   "source": [
    "Now we have to repeat the cleaning and preprocessing for the validate and test sets. This step would have been unified if we had used a pipeline object. \n",
    "\n",
    "Firstly, for the validate data."
   ]
  },
  {
   "cell_type": "code",
   "execution_count": 60,
   "id": "ecabf9cc-4e69-47cb-a02a-aa166c7ad708",
   "metadata": {
    "tags": []
   },
   "outputs": [],
   "source": [
    "# Formatting the validate data (same steps as done for the training data)\n",
    "summary_na_index = amazon_validate[amazon_validate.Summary.isna() == True].index.values\n",
    "for index in summary_na_index:\n",
    "    amazon_validate.loc[index, \"Summary\"] = amazon_validate.loc[index, \"Review\"]\n",
    "    \n",
    "amazon_validate.Summary = amazon_validate.Summary.apply(lambda x: x.lower())\n",
    "\n",
    "large_length_index = amazon_validate[ amazon_validate.Review_Length > 2100 ].index.values\n",
    "for index in large_length_index:\n",
    "    amazon_validate.loc[index, \"Review\"] = amazon_validate.loc[index, \"Summary\"]\n",
    "    amazon_validate.loc[index, \"Review_Length\"] = len(amazon_validate.loc[index, \"Summary\"])\n",
    "    \n",
    "length_one_index = amazon_validate[ amazon_validate.Review_Length == 1].index.values\n",
    "amazon_validate.drop(index = length_one_index, inplace = True)\n",
    "amazon_validate.reset_index(drop = True, inplace = True)\n",
    "\n",
    "amazon_bow_validate = bow_transformer.transform( amazon_validate.Review )\n",
    "amazon_tfidf_validate = tfidf_transformer.transform(amazon_bow_validate)"
   ]
  },
  {
   "cell_type": "code",
   "execution_count": 61,
   "id": "121180c9-0a88-455b-9f09-3e0972c89557",
   "metadata": {
    "tags": []
   },
   "outputs": [],
   "source": [
    "X_validate = pd.DataFrame.sparse.from_spmatrix(amazon_tfidf_validate)\n",
    "X_validate = X_validate.values\n",
    "y_validate = amazon_validate[[\"Rating\"]]\n",
    "y_validate = pd.get_dummies(data = y_validate, columns = [\"Rating\"]).values"
   ]
  },
  {
   "cell_type": "markdown",
   "id": "65c5ffed-a24c-47b7-bced-e74930721d94",
   "metadata": {},
   "source": [
    "Now, for the test data."
   ]
  },
  {
   "cell_type": "code",
   "execution_count": 62,
   "id": "6a0b6174-32de-4fe0-9ad7-15574a71d85f",
   "metadata": {
    "tags": []
   },
   "outputs": [],
   "source": [
    "# Formatting the test data (same steps as done for the training data)\n",
    "summary_na_index = amazon_test[amazon_test.Summary.isna() == True].index.values\n",
    "for index in summary_na_index:\n",
    "    amazon_test.loc[index, \"Summary\"] = amazon_test.loc[index, \"Review\"]\n",
    "    \n",
    "amazon_test.Summary = amazon_test.Summary.apply(lambda x: x.lower())\n",
    "\n",
    "large_length_index = amazon_test[ amazon_test.Review_Length > 2100 ].index.values\n",
    "for index in large_length_index:\n",
    "    amazon_test.loc[index, \"Review\"] = amazon_test.loc[index, \"Summary\"]\n",
    "    amazon_test.loc[index, \"Review_Length\"] = len(amazon_test.loc[index, \"Summary\"])\n",
    "    \n",
    "length_one_index = amazon_test[ amazon_test.Review_Length == 1].index.values\n",
    "amazon_test.drop(index = length_one_index, inplace = True)\n",
    "amazon_test.reset_index(drop = True, inplace = True)\n",
    "\n",
    "amazon_bow_test = bow_transformer.transform( amazon_test.Review )\n",
    "amazon_tfidf_test = tfidf_transformer.transform(amazon_bow_test)"
   ]
  },
  {
   "cell_type": "code",
   "execution_count": 63,
   "id": "1d98a717-fb0e-4092-a58c-3c82ea249487",
   "metadata": {
    "tags": []
   },
   "outputs": [],
   "source": [
    "X_test = pd.DataFrame.sparse.from_spmatrix(amazon_tfidf_test)\n",
    "X_test = X_test.values\n",
    "y_test= amazon_test[[\"Rating\"]]\n",
    "y_test = pd.get_dummies(data = y_test, columns = [\"Rating\"]).values"
   ]
  },
  {
   "cell_type": "code",
   "execution_count": null,
   "id": "13b69215-1c68-4013-8140-af0e49fbcd8c",
   "metadata": {
    "tags": []
   },
   "outputs": [],
   "source": [
    "#import tensorflow\n",
    "#tensorflow.config.run_functions_eagerly(True)"
   ]
  },
  {
   "cell_type": "markdown",
   "id": "15ace557-8af7-4ca3-9ecd-d40420d9ba4f",
   "metadata": {},
   "source": [
    "A rather random choice of neural network architecture used for review text classifier. Softmax output layer used instead of sigmoid just for learning purposes. Typical relu activation for the hidden layers with dropout layers (and early stopage) to avoid overfitting."
   ]
  },
  {
   "cell_type": "code",
   "execution_count": 66,
   "id": "35b61c06-deb0-4cbc-ac96-2effc3ed2744",
   "metadata": {
    "tags": []
   },
   "outputs": [
    {
     "name": "stderr",
     "output_type": "stream",
     "text": [
      "2023-05-16 17:01:40.847173: I tensorflow/core/platform/cpu_feature_guard.cc:142] This TensorFlow binary is optimized with oneAPI Deep Neural Network Library (oneDNN) to use the following CPU instructions in performance-critical operations:  AVX2 FMA\n",
      "To enable them in other operations, rebuild TensorFlow with the appropriate compiler flags.\n"
     ]
    }
   ],
   "source": [
    "# Sequential object to build our neural network\n",
    "model = Sequential()\n",
    "\n",
    "model.add(Dense(500, activation = 'relu', input_dim = X_train.shape[1]))\n",
    "model.add(Dropout(0.5))\n",
    "model.add(Dense(250, activation = 'relu'))\n",
    "model.add(Dropout(0.5))\n",
    "model.add(Dense(250, activation = 'relu'))\n",
    "model.add(Dropout(0.5))\n",
    "model.add(Dense(250, activation = 'relu'))\n",
    "model.add(Dropout(0.5))\n",
    "model.add(Dense(125, activation = 'relu'))\n",
    "model.add(Dropout(0.5))\n",
    "model.add(Dense(100, activation = 'relu'))\n",
    "model.add(Dropout(0.5))\n",
    "model.add(Dense(50, activation = 'relu'))\n",
    "model.add(Dense(2, activation = 'softmax'))\n",
    "model.compile(loss = 'categorical_crossentropy', optimizer = 'adam', metrics = ['accuracy'])"
   ]
  },
  {
   "cell_type": "code",
   "execution_count": 67,
   "id": "34df5821-0ca0-4aa0-ac90-ae6502de60be",
   "metadata": {
    "tags": []
   },
   "outputs": [],
   "source": [
    "# Used to stop the training early if validation losee starts to increase for patience amount of epoch\n",
    "early_stop = EarlyStopping(monitor = 'val_loss', mode = 'min', verbose = 1, patience = 2)"
   ]
  },
  {
   "cell_type": "code",
   "execution_count": 68,
   "id": "a9f86318-2e53-4eb6-a24f-62864ed29271",
   "metadata": {
    "tags": []
   },
   "outputs": [
    {
     "name": "stderr",
     "output_type": "stream",
     "text": [
      "2023-05-16 17:03:58.817002: I tensorflow/compiler/mlir/mlir_graph_optimization_pass.cc:185] None of the MLIR Optimization Passes are enabled (registered 2)\n"
     ]
    },
    {
     "name": "stdout",
     "output_type": "stream",
     "text": [
      "Epoch 1/10\n",
      "674/674 [==============================] - 32s 46ms/step - loss: 0.4554 - accuracy: 0.7434 - val_loss: 0.2559 - val_accuracy: 0.8995\n",
      "Epoch 2/10\n",
      "674/674 [==============================] - 28s 41ms/step - loss: 0.2115 - accuracy: 0.9270 - val_loss: 0.2503 - val_accuracy: 0.8974\n",
      "Epoch 3/10\n",
      "674/674 [==============================] - 28s 42ms/step - loss: 0.1285 - accuracy: 0.9571 - val_loss: 0.2908 - val_accuracy: 0.8980\n",
      "Epoch 4/10\n",
      "674/674 [==============================] - 27s 41ms/step - loss: 0.0792 - accuracy: 0.9746 - val_loss: 0.4752 - val_accuracy: 0.8906\n",
      "Epoch 00004: early stopping\n"
     ]
    },
    {
     "data": {
      "text/plain": [
       "<keras.callbacks.History at 0x25e1db580>"
      ]
     },
     "execution_count": 68,
     "metadata": {},
     "output_type": "execute_result"
    }
   ],
   "source": [
    "# Training the NN: epochs = # of times training data seen, batch_size = # of data points used for gradient update\n",
    "model.fit(X_train, y_train, validation_data = (X_validate, y_validate), epochs = 10, batch_size = 15, callbacks = [early_stop])"
   ]
  },
  {
   "cell_type": "code",
   "execution_count": 69,
   "id": "6b039f8c-7a06-451d-a06e-96acc60908cb",
   "metadata": {
    "tags": []
   },
   "outputs": [],
   "source": [
    "# Predicting output probability for the test dataset\n",
    "y_prob = model.predict(X_test)"
   ]
  },
  {
   "cell_type": "code",
   "execution_count": 70,
   "id": "7515129a-f9fa-4154-9a2e-7dacdafa0c1c",
   "metadata": {
    "tags": []
   },
   "outputs": [],
   "source": [
    "# Rating prediction for the test dataset\n",
    "y_pred = []\n",
    "for array in y_prob:\n",
    "    if array.argmax() == 0:\n",
    "        y_pred.append(1)\n",
    "    else:\n",
    "        y_pred.append(5)"
   ]
  },
  {
   "cell_type": "code",
   "execution_count": 71,
   "id": "bc987e88-5f76-4f6c-8521-7080e8b6c6f1",
   "metadata": {
    "tags": []
   },
   "outputs": [
    {
     "name": "stdout",
     "output_type": "stream",
     "text": [
      "              precision    recall  f1-score   support\n",
      "\n",
      "           1       0.92      0.87      0.90      5093\n",
      "           5       0.88      0.92      0.90      5008\n",
      "\n",
      "    accuracy                           0.90     10101\n",
      "   macro avg       0.90      0.90      0.90     10101\n",
      "weighted avg       0.90      0.90      0.90     10101\n",
      "\n"
     ]
    }
   ],
   "source": [
    "# Classification report \n",
    "print(classification_report(amazon_test.Rating.values,y_pred))"
   ]
  },
  {
   "cell_type": "markdown",
   "id": "dd4bfdb1-1be9-4b6f-bc3f-6d3b81a119e2",
   "metadata": {},
   "source": [
    "Overall, since the dataset is balanced, we see that our model is able to correctly classify around 90% of the unseen test data with similar recall and precision across both classes."
   ]
  },
  {
   "cell_type": "markdown",
   "id": "13c874b8-a0a0-49b0-ac60-08841a74efba",
   "metadata": {},
   "source": [
    "### 3.1) Including PCA\n",
    "\n",
    "##### Using Principal component analysis to reduce the features and highlight only the important ones; just to quickly see if it improves performance."
   ]
  },
  {
   "cell_type": "code",
   "execution_count": 72,
   "id": "82757a62-789e-48ee-90ef-996dab974b71",
   "metadata": {
    "tags": []
   },
   "outputs": [],
   "source": [
    "# Importing PCA object\n",
    "from sklearn.decomposition import PCA\n",
    "\n",
    "# Instance of a PCA object with 500 features\n",
    "pca = PCA(n_components = 500)\n",
    "\n",
    "# Fitting the training data\n",
    "pca.fit(X_train)\n",
    "\n",
    "# Extracting the 500 features for train, validate and test data\n",
    "XX = pca.transform(X_train)\n",
    "XXv = pca.transform(X_validate)\n",
    "XXt = pca.transform(X_test)"
   ]
  },
  {
   "cell_type": "code",
   "execution_count": 73,
   "id": "9557af36-64d8-428f-aad2-856fe605662b",
   "metadata": {
    "tags": []
   },
   "outputs": [],
   "source": [
    "# Using the same model as before but now with the 500 features extracted using PCA\n",
    "model = Sequential()\n",
    "\n",
    "model.add(Dense(500, activation = 'relu', input_dim = XX.shape[1]))\n",
    "model.add(Dropout(0.5))\n",
    "model.add(Dense(250, activation = 'relu'))\n",
    "model.add(Dropout(0.5))\n",
    "model.add(Dense(250, activation = 'relu'))\n",
    "model.add(Dropout(0.5))\n",
    "model.add(Dense(250, activation = 'relu'))\n",
    "model.add(Dropout(0.5))\n",
    "model.add(Dense(125, activation = 'relu'))\n",
    "model.add(Dropout(0.5))\n",
    "model.add(Dense(100, activation = 'relu'))\n",
    "model.add(Dropout(0.5))\n",
    "model.add(Dense(50, activation = 'relu'))\n",
    "model.add(Dense(2, activation = 'softmax'))\n",
    "model.compile(loss = 'categorical_crossentropy', optimizer = 'adam', metrics = ['accuracy'])"
   ]
  },
  {
   "cell_type": "code",
   "execution_count": 74,
   "id": "5c9a66f1-d17d-4188-9ba0-c48852314124",
   "metadata": {
    "tags": []
   },
   "outputs": [
    {
     "name": "stdout",
     "output_type": "stream",
     "text": [
      "Epoch 1/10\n",
      "1011/1011 [==============================] - 7s 6ms/step - loss: 0.4387 - accuracy: 0.7949 - val_loss: 0.3202 - val_accuracy: 0.8805\n",
      "Epoch 2/10\n",
      "1011/1011 [==============================] - 6s 6ms/step - loss: 0.2845 - accuracy: 0.8915 - val_loss: 0.2779 - val_accuracy: 0.8815\n",
      "Epoch 3/10\n",
      "1011/1011 [==============================] - 6s 6ms/step - loss: 0.2599 - accuracy: 0.9054 - val_loss: 0.3041 - val_accuracy: 0.8895\n",
      "Epoch 4/10\n",
      "1011/1011 [==============================] - 6s 6ms/step - loss: 0.2185 - accuracy: 0.9190 - val_loss: 0.2767 - val_accuracy: 0.8844\n",
      "Epoch 5/10\n",
      "1011/1011 [==============================] - 6s 6ms/step - loss: 0.1774 - accuracy: 0.9338 - val_loss: 0.3079 - val_accuracy: 0.8896\n",
      "Epoch 6/10\n",
      "1011/1011 [==============================] - 6s 6ms/step - loss: 0.1725 - accuracy: 0.9377 - val_loss: 0.2891 - val_accuracy: 0.8945\n",
      "Epoch 00006: early stopping\n"
     ]
    },
    {
     "data": {
      "text/plain": [
       "<keras.callbacks.History at 0x153ef9640>"
      ]
     },
     "execution_count": 74,
     "metadata": {},
     "output_type": "execute_result"
    }
   ],
   "source": [
    "# Traininig the model\n",
    "model.fit(XX, y_train, validation_data = (XXv, y_validate), epochs = 10, batch_size = 10, callbacks = [early_stop])"
   ]
  },
  {
   "cell_type": "code",
   "execution_count": 75,
   "id": "5b901440-9bbc-4410-a3f1-9b2f805ce931",
   "metadata": {
    "tags": []
   },
   "outputs": [],
   "source": [
    "# Prediction on the test data\n",
    "y_prob = model.predict(XXt)\n",
    "y_pred = []\n",
    "for array in y_prob:\n",
    "    if array.argmax() == 0:\n",
    "        y_pred.append(1)\n",
    "    else:\n",
    "        y_pred.append(5)"
   ]
  },
  {
   "cell_type": "code",
   "execution_count": 76,
   "id": "51a4dd79-7626-40be-8edf-1a8b9a019065",
   "metadata": {
    "tags": []
   },
   "outputs": [
    {
     "name": "stdout",
     "output_type": "stream",
     "text": [
      "              precision    recall  f1-score   support\n",
      "\n",
      "           1       0.91      0.88      0.89      5093\n",
      "           5       0.88      0.91      0.90      5008\n",
      "\n",
      "    accuracy                           0.90     10101\n",
      "   macro avg       0.90      0.90      0.90     10101\n",
      "weighted avg       0.90      0.90      0.90     10101\n",
      "\n"
     ]
    }
   ],
   "source": [
    "# Classification report\n",
    "print(classification_report(amazon_test.Rating.values,y_pred))"
   ]
  },
  {
   "cell_type": "markdown",
   "id": "59cd1ba4-83e2-4c16-a868-25189b50a561",
   "metadata": {},
   "source": [
    "Arguably the same result as the previous model with the full tfidf matrix. "
   ]
  },
  {
   "cell_type": "markdown",
   "id": "9aad1d30-8bab-43c9-91a5-26bfdfd0ac8c",
   "metadata": {},
   "source": [
    "## 4) Conclusion and Future Projects\n",
    "\n",
    "This notebook presents a very basic NLP project with the use of simple feedforward neural network; review text for cell phone and accessories products sold at amazon is used to develop a deep learning classification model. The model has an accuracy of 90% on a balanced unseen dataset and also a f1-score of 0.9 for each binary class.\n",
    "\n",
    "In the future, once the relevant skills have been learned, the entire dataset can be used for training and testing and state-of-the-art deep learning architectures could be implemented and compared. The binary classification can be generalised to the multiclass of 1 to 5 star ratings. "
   ]
  },
  {
   "cell_type": "markdown",
   "id": "5ba3ed75-4268-488f-92c6-4b58bb6e3dde",
   "metadata": {},
   "source": [
    "## Author \n",
    "Abhay Shrestha"
   ]
  }
 ],
 "metadata": {
  "kernelspec": {
   "display_name": "tensor",
   "language": "python",
   "name": "tensor"
  },
  "language_info": {
   "codemirror_mode": {
    "name": "ipython",
    "version": 3
   },
   "file_extension": ".py",
   "mimetype": "text/x-python",
   "name": "python",
   "nbconvert_exporter": "python",
   "pygments_lexer": "ipython3",
   "version": "3.8.2"
  }
 },
 "nbformat": 4,
 "nbformat_minor": 5
}
